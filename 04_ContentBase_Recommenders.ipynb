{
 "cells": [
  {
   "cell_type": "code",
   "execution_count": 23,
   "source": [
    "import pandas as pd\r\n",
    "from sklearn.feature_extraction.text import TfidfVectorizer,CountVectorizer\r\n",
    "from sklearn.metrics.pairwise import cosine_similarity, linear_kernel\r\n",
    "from Packages.RecomHelper import get_Recommendations,cleaning_data,merge_All_Features"
   ],
   "outputs": [
    {
     "output_type": "error",
     "ename": "ImportError",
     "evalue": "cannot import name 'merge_All_Features' from 'Packages.RecomHelper' (c:\\Users\\Mohamad\\source\\repos\\SMJalalian\\Web Mining\\Packages\\RecomHelper.py)",
     "traceback": [
      "\u001b[1;31m---------------------------------------------------------------------------\u001b[0m",
      "\u001b[1;31mImportError\u001b[0m                               Traceback (most recent call last)",
      "\u001b[1;32m<ipython-input-23-7c1d5f18647a>\u001b[0m in \u001b[0;36m<module>\u001b[1;34m\u001b[0m\n\u001b[0;32m      2\u001b[0m \u001b[1;32mfrom\u001b[0m \u001b[0msklearn\u001b[0m\u001b[1;33m.\u001b[0m\u001b[0mfeature_extraction\u001b[0m\u001b[1;33m.\u001b[0m\u001b[0mtext\u001b[0m \u001b[1;32mimport\u001b[0m \u001b[0mTfidfVectorizer\u001b[0m\u001b[1;33m,\u001b[0m\u001b[0mCountVectorizer\u001b[0m\u001b[1;33m\u001b[0m\u001b[1;33m\u001b[0m\u001b[0m\n\u001b[0;32m      3\u001b[0m \u001b[1;32mfrom\u001b[0m \u001b[0msklearn\u001b[0m\u001b[1;33m.\u001b[0m\u001b[0mmetrics\u001b[0m\u001b[1;33m.\u001b[0m\u001b[0mpairwise\u001b[0m \u001b[1;32mimport\u001b[0m \u001b[0mcosine_similarity\u001b[0m\u001b[1;33m,\u001b[0m \u001b[0mlinear_kernel\u001b[0m\u001b[1;33m\u001b[0m\u001b[1;33m\u001b[0m\u001b[0m\n\u001b[1;32m----> 4\u001b[1;33m \u001b[1;32mfrom\u001b[0m \u001b[0mPackages\u001b[0m\u001b[1;33m.\u001b[0m\u001b[0mRecomHelper\u001b[0m \u001b[1;32mimport\u001b[0m \u001b[0mget_Recommendations\u001b[0m\u001b[1;33m,\u001b[0m\u001b[0mcleaning_data\u001b[0m\u001b[1;33m,\u001b[0m\u001b[0mmerge_All_Features\u001b[0m\u001b[1;33m\u001b[0m\u001b[1;33m\u001b[0m\u001b[0m\n\u001b[0m",
      "\u001b[1;31mImportError\u001b[0m: cannot import name 'merge_All_Features' from 'Packages.RecomHelper' (c:\\Users\\Mohamad\\source\\repos\\SMJalalian\\Web Mining\\Packages\\RecomHelper.py)"
     ]
    }
   ],
   "metadata": {}
  },
  {
   "cell_type": "code",
   "execution_count": 2,
   "source": [
    "metadata = pd.read_csv('Datasets/ContenetBase_Recommenders_Movies_Metadata.csv')"
   ],
   "outputs": [],
   "metadata": {}
  },
  {
   "cell_type": "code",
   "execution_count": 3,
   "source": [
    "tfidf = TfidfVectorizer(stop_words='english')\r\n",
    "metadata['overview'] = metadata['overview'].fillna('')\r\n",
    "overview_tfidf_matrix = tfidf.fit_transform(metadata['overview'])"
   ],
   "outputs": [],
   "metadata": {}
  },
  {
   "cell_type": "code",
   "execution_count": 4,
   "source": [
    "overview_cosine_sim = linear_kernel(overview_tfidf_matrix, overview_tfidf_matrix)"
   ],
   "outputs": [],
   "metadata": {}
  },
  {
   "cell_type": "code",
   "execution_count": 22,
   "source": [
    "indices = pd.Series(metadata.index, index=metadata['title'])\r\n",
    "get_Recommendations( metadata, indices, \"The Godfather\", overview_cosine_sim)"
   ],
   "outputs": [
    {
     "output_type": "execute_result",
     "data": {
      "text/plain": [
       "33024              The Godfather: Part II\n",
       "33023    The Godfather Trilogy: 1972-1990\n",
       "33025             The Godfather: Part III\n",
       "4914                           Blood Ties\n",
       "14700                    Household Saints\n",
       "28829                   Start Liquidation\n",
       "10198                            Election\n",
       "962              A Mother Should Be Loved\n",
       "27508                   Short Sharp Shock\n",
       "3985                   Beck 28 - Familjen\n",
       "Name: title, dtype: object"
      ]
     },
     "metadata": {},
     "execution_count": 22
    }
   ],
   "metadata": {}
  },
  {
   "cell_type": "code",
   "execution_count": 6,
   "source": [
    "features = ['cast', 'keywords', 'director', 'genres']\r\n",
    "for feature in features:\r\n",
    "    metadata[feature] = metadata[feature].apply(cleaning_data)"
   ],
   "outputs": [],
   "metadata": {}
  },
  {
   "cell_type": "code",
   "execution_count": 7,
   "source": [
    "metadata['soup'] = metadata.apply(merge_All_Features, axis=1)"
   ],
   "outputs": [],
   "metadata": {}
  },
  {
   "cell_type": "code",
   "execution_count": 8,
   "source": [
    "count = CountVectorizer(stop_words='english')\r\n",
    "count_matrix = count.fit_transform(metadata['soup'])"
   ],
   "outputs": [],
   "metadata": {}
  },
  {
   "cell_type": "code",
   "execution_count": 9,
   "source": [
    "soup_cosine_sim = cosine_similarity(count_matrix, count_matrix)"
   ],
   "outputs": [],
   "metadata": {}
  },
  {
   "cell_type": "code",
   "execution_count": 10,
   "source": [
    "metadata = metadata.reset_index()\r\n",
    "indices = pd.Series(metadata.index, index=metadata['title'])"
   ],
   "outputs": [],
   "metadata": {}
  },
  {
   "cell_type": "code",
   "execution_count": 20,
   "source": [
    "get_Recommendations(metadata, indices, '12 Angry Men', soup_cosine_sim)"
   ],
   "outputs": [
    {
     "output_type": "execute_result",
     "data": {
      "text/plain": [
       "4986               Blue Chips\n",
       "7853                 Cruising\n",
       "8516      Deal of the Century\n",
       "16220                    Jade\n",
       "17211              Killer Joe\n",
       "25213                 Rampage\n",
       "26212     Rules of Engagement\n",
       "28367                Sorcerer\n",
       "30938      The Birthday Party\n",
       "31126    The Boys in the Band\n",
       "Name: title, dtype: object"
      ]
     },
     "metadata": {},
     "execution_count": 20
    }
   ],
   "metadata": {}
  }
 ],
 "metadata": {
  "orig_nbformat": 4,
  "language_info": {
   "name": "python"
  }
 },
 "nbformat": 4,
 "nbformat_minor": 2
}